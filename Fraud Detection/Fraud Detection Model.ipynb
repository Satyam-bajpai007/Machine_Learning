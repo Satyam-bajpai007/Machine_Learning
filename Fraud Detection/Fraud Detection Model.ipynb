{
 "cells": [
  {
   "cell_type": "markdown",
   "id": "95bdfe50",
   "metadata": {
    "toc": true
   },
   "source": [
    "<h1>Table of Contents<span class=\"tocSkip\"></span></h1>\n",
    "<div class=\"toc\"><ul class=\"toc-item\"><li><span><a href=\"#Import-DataSet\" data-toc-modified-id=\"Import-DataSet-1\"><span class=\"toc-item-num\">1&nbsp;&nbsp;</span>Import DataSet</a></span></li><li><span><a href=\"#DataSet-Analysis\" data-toc-modified-id=\"DataSet-Analysis-2\"><span class=\"toc-item-num\">2&nbsp;&nbsp;</span>DataSet Analysis</a></span><ul class=\"toc-item\"><li><span><a href=\"#Creating-numeric-and-caatagorical-DataFrame\" data-toc-modified-id=\"Creating-numeric-and-caatagorical-DataFrame-2.1\"><span class=\"toc-item-num\">2.1&nbsp;&nbsp;</span>Creating numeric and caatagorical DataFrame</a></span></li><li><span><a href=\"#Analyzing-Numerical-Value\" data-toc-modified-id=\"Analyzing-Numerical-Value-2.2\"><span class=\"toc-item-num\">2.2&nbsp;&nbsp;</span>Analyzing Numerical Value</a></span><ul class=\"toc-item\"><li><span><a href=\"#Checking-Null-value-in-DataFrame\" data-toc-modified-id=\"Checking-Null-value-in-DataFrame-2.2.1\"><span class=\"toc-item-num\">2.2.1&nbsp;&nbsp;</span>Checking Null value in DataFrame</a></span></li><li><span><a href=\"#Finding-out-the-correlation-in-numerical-dataset\" data-toc-modified-id=\"Finding-out-the-correlation-in-numerical-dataset-2.2.2\"><span class=\"toc-item-num\">2.2.2&nbsp;&nbsp;</span>Finding out the correlation in numerical dataset</a></span></li><li><span><a href=\"#Data-Sepeartion\" data-toc-modified-id=\"Data-Sepeartion-2.2.3\"><span class=\"toc-item-num\">2.2.3&nbsp;&nbsp;</span>Data Sepeartion</a></span></li><li><span><a href=\"#Outlier-detection-and-correction\" data-toc-modified-id=\"Outlier-detection-and-correction-2.2.4\"><span class=\"toc-item-num\">2.2.4&nbsp;&nbsp;</span>Outlier detection and correction</a></span></li><li><span><a href=\"#Outlier-Index\" data-toc-modified-id=\"Outlier-Index-2.2.5\"><span class=\"toc-item-num\">2.2.5&nbsp;&nbsp;</span>Outlier Index</a></span></li><li><span><a href=\"#Standard-Scaling\" data-toc-modified-id=\"Standard-Scaling-2.2.6\"><span class=\"toc-item-num\">2.2.6&nbsp;&nbsp;</span>Standard Scaling</a></span></li></ul></li><li><span><a href=\"#Analyzing-Catagorical-Value\" data-toc-modified-id=\"Analyzing-Catagorical-Value-2.3\"><span class=\"toc-item-num\">2.3&nbsp;&nbsp;</span>Analyzing Catagorical Value</a></span><ul class=\"toc-item\"><li><span><a href=\"#Data-Filtering\" data-toc-modified-id=\"Data-Filtering-2.3.1\"><span class=\"toc-item-num\">2.3.1&nbsp;&nbsp;</span>Data Filtering</a></span></li><li><span><a href=\"#Label-Encoding\" data-toc-modified-id=\"Label-Encoding-2.3.2\"><span class=\"toc-item-num\">2.3.2&nbsp;&nbsp;</span>Label Encoding</a></span></li><li><span><a href=\"#Concatinating-Numerical-and-Catagorical-Value\" data-toc-modified-id=\"Concatinating-Numerical-and-Catagorical-Value-2.3.3\"><span class=\"toc-item-num\">2.3.3&nbsp;&nbsp;</span>Concatinating Numerical and Catagorical Value</a></span></li></ul></li></ul></li><li><span><a href=\"#Selcting-K-Best-value\" data-toc-modified-id=\"Selcting-K-Best-value-3\"><span class=\"toc-item-num\">3&nbsp;&nbsp;</span>Selcting K Best value</a></span></li><li><span><a href=\"#Training-And-Testing\" data-toc-modified-id=\"Training-And-Testing-4\"><span class=\"toc-item-num\">4&nbsp;&nbsp;</span>Training And Testing</a></span></li></ul></div>"
   ]
  },
  {
   "cell_type": "code",
   "execution_count": 1,
   "id": "fb7a2cdc",
   "metadata": {
    "ExecuteTime": {
     "end_time": "2022-07-21T06:39:35.826406Z",
     "start_time": "2022-07-21T06:39:33.613153Z"
    }
   },
   "outputs": [],
   "source": [
    "import pandas as pd\n",
    "import matplotlib.pyplot as plt\n",
    "import seaborn as snb\n",
    "import numpy as np"
   ]
  },
  {
   "cell_type": "markdown",
   "id": "5076e177",
   "metadata": {},
   "source": [
    "# Import DataSet"
   ]
  },
  {
   "cell_type": "code",
   "execution_count": 2,
   "id": "50c7a1c2",
   "metadata": {
    "ExecuteTime": {
     "end_time": "2022-07-21T06:39:47.532520Z",
     "start_time": "2022-07-21T06:39:35.826406Z"
    }
   },
   "outputs": [
    {
     "data": {
      "text/html": [
       "<div>\n",
       "<style scoped>\n",
       "    .dataframe tbody tr th:only-of-type {\n",
       "        vertical-align: middle;\n",
       "    }\n",
       "\n",
       "    .dataframe tbody tr th {\n",
       "        vertical-align: top;\n",
       "    }\n",
       "\n",
       "    .dataframe thead th {\n",
       "        text-align: right;\n",
       "    }\n",
       "</style>\n",
       "<table border=\"1\" class=\"dataframe\">\n",
       "  <thead>\n",
       "    <tr style=\"text-align: right;\">\n",
       "      <th></th>\n",
       "      <th>step</th>\n",
       "      <th>type</th>\n",
       "      <th>amount</th>\n",
       "      <th>nameOrig</th>\n",
       "      <th>oldbalanceOrg</th>\n",
       "      <th>newbalanceOrig</th>\n",
       "      <th>nameDest</th>\n",
       "      <th>oldbalanceDest</th>\n",
       "      <th>newbalanceDest</th>\n",
       "      <th>isFraud</th>\n",
       "      <th>isFlaggedFraud</th>\n",
       "    </tr>\n",
       "  </thead>\n",
       "  <tbody>\n",
       "    <tr>\n",
       "      <th>0</th>\n",
       "      <td>1</td>\n",
       "      <td>PAYMENT</td>\n",
       "      <td>9839.64</td>\n",
       "      <td>C1231006815</td>\n",
       "      <td>170136.0</td>\n",
       "      <td>160296.36</td>\n",
       "      <td>M1979787155</td>\n",
       "      <td>0.0</td>\n",
       "      <td>0.0</td>\n",
       "      <td>0</td>\n",
       "      <td>0</td>\n",
       "    </tr>\n",
       "    <tr>\n",
       "      <th>1</th>\n",
       "      <td>1</td>\n",
       "      <td>PAYMENT</td>\n",
       "      <td>1864.28</td>\n",
       "      <td>C1666544295</td>\n",
       "      <td>21249.0</td>\n",
       "      <td>19384.72</td>\n",
       "      <td>M2044282225</td>\n",
       "      <td>0.0</td>\n",
       "      <td>0.0</td>\n",
       "      <td>0</td>\n",
       "      <td>0</td>\n",
       "    </tr>\n",
       "    <tr>\n",
       "      <th>2</th>\n",
       "      <td>1</td>\n",
       "      <td>TRANSFER</td>\n",
       "      <td>181.00</td>\n",
       "      <td>C1305486145</td>\n",
       "      <td>181.0</td>\n",
       "      <td>0.00</td>\n",
       "      <td>C553264065</td>\n",
       "      <td>0.0</td>\n",
       "      <td>0.0</td>\n",
       "      <td>1</td>\n",
       "      <td>0</td>\n",
       "    </tr>\n",
       "    <tr>\n",
       "      <th>3</th>\n",
       "      <td>1</td>\n",
       "      <td>CASH_OUT</td>\n",
       "      <td>181.00</td>\n",
       "      <td>C840083671</td>\n",
       "      <td>181.0</td>\n",
       "      <td>0.00</td>\n",
       "      <td>C38997010</td>\n",
       "      <td>21182.0</td>\n",
       "      <td>0.0</td>\n",
       "      <td>1</td>\n",
       "      <td>0</td>\n",
       "    </tr>\n",
       "    <tr>\n",
       "      <th>4</th>\n",
       "      <td>1</td>\n",
       "      <td>PAYMENT</td>\n",
       "      <td>11668.14</td>\n",
       "      <td>C2048537720</td>\n",
       "      <td>41554.0</td>\n",
       "      <td>29885.86</td>\n",
       "      <td>M1230701703</td>\n",
       "      <td>0.0</td>\n",
       "      <td>0.0</td>\n",
       "      <td>0</td>\n",
       "      <td>0</td>\n",
       "    </tr>\n",
       "  </tbody>\n",
       "</table>\n",
       "</div>"
      ],
      "text/plain": [
       "   step      type    amount     nameOrig  oldbalanceOrg  newbalanceOrig  \\\n",
       "0     1   PAYMENT   9839.64  C1231006815       170136.0       160296.36   \n",
       "1     1   PAYMENT   1864.28  C1666544295        21249.0        19384.72   \n",
       "2     1  TRANSFER    181.00  C1305486145          181.0            0.00   \n",
       "3     1  CASH_OUT    181.00   C840083671          181.0            0.00   \n",
       "4     1   PAYMENT  11668.14  C2048537720        41554.0        29885.86   \n",
       "\n",
       "      nameDest  oldbalanceDest  newbalanceDest  isFraud  isFlaggedFraud  \n",
       "0  M1979787155             0.0             0.0        0               0  \n",
       "1  M2044282225             0.0             0.0        0               0  \n",
       "2   C553264065             0.0             0.0        1               0  \n",
       "3    C38997010         21182.0             0.0        1               0  \n",
       "4  M1230701703             0.0             0.0        0               0  "
      ]
     },
     "execution_count": 2,
     "metadata": {},
     "output_type": "execute_result"
    }
   ],
   "source": [
    "df = pd.read_csv('Fraud.csv')\n",
    "df.head()"
   ]
  },
  {
   "cell_type": "markdown",
   "id": "e3177114",
   "metadata": {},
   "source": [
    "# DataSet Analysis"
   ]
  },
  {
   "cell_type": "code",
   "execution_count": 3,
   "id": "66483873",
   "metadata": {
    "ExecuteTime": {
     "end_time": "2022-07-21T06:39:47.547520Z",
     "start_time": "2022-07-21T06:39:47.534519Z"
    }
   },
   "outputs": [
    {
     "data": {
      "text/plain": [
       "(6362620, 11)"
      ]
     },
     "execution_count": 3,
     "metadata": {},
     "output_type": "execute_result"
    }
   ],
   "source": [
    "df.shape"
   ]
  },
  {
   "cell_type": "code",
   "execution_count": 4,
   "id": "38f6574c",
   "metadata": {
    "ExecuteTime": {
     "end_time": "2022-07-21T06:39:48.841114Z",
     "start_time": "2022-07-21T06:39:47.549520Z"
    }
   },
   "outputs": [
    {
     "name": "stdout",
     "output_type": "stream",
     "text": [
      "Number of zero in isFlaggedFraud :  (6362604, 11)\n",
      "Number of zero in isFraud :  (6354407, 11)\n"
     ]
    }
   ],
   "source": [
    "print('Number of zero in isFlaggedFraud : ',df[df['isFlaggedFraud']==0].shape)\n",
    "print('Number of zero in isFraud : ',df[df['isFraud']==0].shape)"
   ]
  },
  {
   "cell_type": "code",
   "execution_count": 5,
   "id": "9ff683e2",
   "metadata": {
    "ExecuteTime": {
     "end_time": "2022-07-21T06:39:48.889119Z",
     "start_time": "2022-07-21T06:39:48.843117Z"
    }
   },
   "outputs": [
    {
     "name": "stdout",
     "output_type": "stream",
     "text": [
      "Number of zero in isFlaggedFraud :  (16, 11)\n",
      "Number of zero in isFraud :  (8213, 11)\n"
     ]
    }
   ],
   "source": [
    "print('Number of zero in isFlaggedFraud : ',df[df['isFlaggedFraud']==1].shape)\n",
    "print('Number of zero in isFraud : ',df[df['isFraud']==1].shape)"
   ]
  },
  {
   "cell_type": "markdown",
   "id": "5a297f73",
   "metadata": {},
   "source": [
    "## Creating numeric and caatagorical DataFrame"
   ]
  },
  {
   "cell_type": "code",
   "execution_count": 6,
   "id": "29bd5281",
   "metadata": {
    "ExecuteTime": {
     "end_time": "2022-07-21T06:39:48.905118Z",
     "start_time": "2022-07-21T06:39:48.891119Z"
    }
   },
   "outputs": [],
   "source": [
    "df_num = pd.DataFrame()\n",
    "df_cat = pd.DataFrame()"
   ]
  },
  {
   "cell_type": "code",
   "execution_count": 7,
   "id": "0258f7b7",
   "metadata": {
    "ExecuteTime": {
     "end_time": "2022-07-21T06:39:49.648556Z",
     "start_time": "2022-07-21T06:39:48.907120Z"
    }
   },
   "outputs": [],
   "source": [
    "for i in df.columns:\n",
    "    if df[i].dtype == object:\n",
    "        df_cat[i] = df[i]\n",
    "    else:\n",
    "        df_num[i] = df[i]"
   ]
  },
  {
   "cell_type": "code",
   "execution_count": 8,
   "id": "34996dbf",
   "metadata": {
    "ExecuteTime": {
     "end_time": "2022-07-21T06:39:49.663571Z",
     "start_time": "2022-07-21T06:39:49.648556Z"
    }
   },
   "outputs": [
    {
     "data": {
      "text/html": [
       "<div>\n",
       "<style scoped>\n",
       "    .dataframe tbody tr th:only-of-type {\n",
       "        vertical-align: middle;\n",
       "    }\n",
       "\n",
       "    .dataframe tbody tr th {\n",
       "        vertical-align: top;\n",
       "    }\n",
       "\n",
       "    .dataframe thead th {\n",
       "        text-align: right;\n",
       "    }\n",
       "</style>\n",
       "<table border=\"1\" class=\"dataframe\">\n",
       "  <thead>\n",
       "    <tr style=\"text-align: right;\">\n",
       "      <th></th>\n",
       "      <th>type</th>\n",
       "      <th>nameOrig</th>\n",
       "      <th>nameDest</th>\n",
       "    </tr>\n",
       "  </thead>\n",
       "  <tbody>\n",
       "    <tr>\n",
       "      <th>0</th>\n",
       "      <td>PAYMENT</td>\n",
       "      <td>C1231006815</td>\n",
       "      <td>M1979787155</td>\n",
       "    </tr>\n",
       "    <tr>\n",
       "      <th>1</th>\n",
       "      <td>PAYMENT</td>\n",
       "      <td>C1666544295</td>\n",
       "      <td>M2044282225</td>\n",
       "    </tr>\n",
       "    <tr>\n",
       "      <th>2</th>\n",
       "      <td>TRANSFER</td>\n",
       "      <td>C1305486145</td>\n",
       "      <td>C553264065</td>\n",
       "    </tr>\n",
       "    <tr>\n",
       "      <th>3</th>\n",
       "      <td>CASH_OUT</td>\n",
       "      <td>C840083671</td>\n",
       "      <td>C38997010</td>\n",
       "    </tr>\n",
       "    <tr>\n",
       "      <th>4</th>\n",
       "      <td>PAYMENT</td>\n",
       "      <td>C2048537720</td>\n",
       "      <td>M1230701703</td>\n",
       "    </tr>\n",
       "  </tbody>\n",
       "</table>\n",
       "</div>"
      ],
      "text/plain": [
       "       type     nameOrig     nameDest\n",
       "0   PAYMENT  C1231006815  M1979787155\n",
       "1   PAYMENT  C1666544295  M2044282225\n",
       "2  TRANSFER  C1305486145   C553264065\n",
       "3  CASH_OUT   C840083671    C38997010\n",
       "4   PAYMENT  C2048537720  M1230701703"
      ]
     },
     "execution_count": 8,
     "metadata": {},
     "output_type": "execute_result"
    }
   ],
   "source": [
    "df_cat.head()"
   ]
  },
  {
   "cell_type": "code",
   "execution_count": 28,
   "id": "277dfa79",
   "metadata": {
    "ExecuteTime": {
     "end_time": "2022-07-21T06:49:52.244877Z",
     "start_time": "2022-07-21T06:49:52.230877Z"
    },
    "scrolled": true
   },
   "outputs": [
    {
     "data": {
      "text/html": [
       "<div>\n",
       "<style scoped>\n",
       "    .dataframe tbody tr th:only-of-type {\n",
       "        vertical-align: middle;\n",
       "    }\n",
       "\n",
       "    .dataframe tbody tr th {\n",
       "        vertical-align: top;\n",
       "    }\n",
       "\n",
       "    .dataframe thead th {\n",
       "        text-align: right;\n",
       "    }\n",
       "</style>\n",
       "<table border=\"1\" class=\"dataframe\">\n",
       "  <thead>\n",
       "    <tr style=\"text-align: right;\">\n",
       "      <th></th>\n",
       "      <th>step</th>\n",
       "      <th>amount</th>\n",
       "      <th>oldbalanceOrg</th>\n",
       "      <th>newbalanceOrig</th>\n",
       "      <th>oldbalanceDest</th>\n",
       "      <th>newbalanceDest</th>\n",
       "      <th>isFraud</th>\n",
       "      <th>isFlaggedFraud</th>\n",
       "    </tr>\n",
       "  </thead>\n",
       "  <tbody>\n",
       "    <tr>\n",
       "      <th>0</th>\n",
       "      <td>1</td>\n",
       "      <td>9839.64</td>\n",
       "      <td>170136.0</td>\n",
       "      <td>160296.36</td>\n",
       "      <td>0.0</td>\n",
       "      <td>0.0</td>\n",
       "      <td>0</td>\n",
       "      <td>0</td>\n",
       "    </tr>\n",
       "    <tr>\n",
       "      <th>1</th>\n",
       "      <td>1</td>\n",
       "      <td>1864.28</td>\n",
       "      <td>21249.0</td>\n",
       "      <td>19384.72</td>\n",
       "      <td>0.0</td>\n",
       "      <td>0.0</td>\n",
       "      <td>0</td>\n",
       "      <td>0</td>\n",
       "    </tr>\n",
       "    <tr>\n",
       "      <th>2</th>\n",
       "      <td>1</td>\n",
       "      <td>181.00</td>\n",
       "      <td>181.0</td>\n",
       "      <td>0.00</td>\n",
       "      <td>0.0</td>\n",
       "      <td>0.0</td>\n",
       "      <td>1</td>\n",
       "      <td>0</td>\n",
       "    </tr>\n",
       "    <tr>\n",
       "      <th>3</th>\n",
       "      <td>1</td>\n",
       "      <td>181.00</td>\n",
       "      <td>181.0</td>\n",
       "      <td>0.00</td>\n",
       "      <td>21182.0</td>\n",
       "      <td>0.0</td>\n",
       "      <td>1</td>\n",
       "      <td>0</td>\n",
       "    </tr>\n",
       "    <tr>\n",
       "      <th>4</th>\n",
       "      <td>1</td>\n",
       "      <td>11668.14</td>\n",
       "      <td>41554.0</td>\n",
       "      <td>29885.86</td>\n",
       "      <td>0.0</td>\n",
       "      <td>0.0</td>\n",
       "      <td>0</td>\n",
       "      <td>0</td>\n",
       "    </tr>\n",
       "  </tbody>\n",
       "</table>\n",
       "</div>"
      ],
      "text/plain": [
       "   step    amount  oldbalanceOrg  newbalanceOrig  oldbalanceDest  \\\n",
       "0     1   9839.64       170136.0       160296.36             0.0   \n",
       "1     1   1864.28        21249.0        19384.72             0.0   \n",
       "2     1    181.00          181.0            0.00             0.0   \n",
       "3     1    181.00          181.0            0.00         21182.0   \n",
       "4     1  11668.14        41554.0        29885.86             0.0   \n",
       "\n",
       "   newbalanceDest  isFraud  isFlaggedFraud  \n",
       "0             0.0        0               0  \n",
       "1             0.0        0               0  \n",
       "2             0.0        1               0  \n",
       "3             0.0        1               0  \n",
       "4             0.0        0               0  "
      ]
     },
     "execution_count": 28,
     "metadata": {},
     "output_type": "execute_result"
    }
   ],
   "source": [
    "df_num.head()"
   ]
  },
  {
   "cell_type": "markdown",
   "id": "f72f89db",
   "metadata": {},
   "source": [
    "## Analyzing Numerical Value"
   ]
  },
  {
   "cell_type": "markdown",
   "id": "2f800b98",
   "metadata": {},
   "source": [
    "### Checking Null value in DataFrame"
   ]
  },
  {
   "cell_type": "code",
   "execution_count": 10,
   "id": "425c7126",
   "metadata": {
    "ExecuteTime": {
     "end_time": "2022-07-21T06:40:12.412893Z",
     "start_time": "2022-07-21T06:39:49.697693Z"
    }
   },
   "outputs": [
    {
     "name": "stdout",
     "output_type": "stream",
     "text": [
      "type        0\n",
      "nameOrig    0\n",
      "nameDest    0\n",
      "dtype: int64\n"
     ]
    },
    {
     "data": {
      "text/plain": [
       "<AxesSubplot:>"
      ]
     },
     "execution_count": 10,
     "metadata": {},
     "output_type": "execute_result"
    },
    {
     "data": {
      "image/png": "[encoded data removed]",
      "text/plain": [
       "<Figure size 432x288 with 2 Axes>"
      ]
     },
     "metadata": {
      "needs_background": "light"
     },
     "output_type": "display_data"
    }
   ],
   "source": [
    "print(df_cat.isnull().sum())\n",
    "snb.heatmap(df_cat.isnull())"
   ]
  },
  {
   "cell_type": "code",
   "execution_count": 11,
   "id": "6c1646bc",
   "metadata": {
    "ExecuteTime": {
     "end_time": "2022-07-21T06:40:56.574169Z",
     "start_time": "2022-07-21T06:40:12.413896Z"
    }
   },
   "outputs": [
    {
     "name": "stdout",
     "output_type": "stream",
     "text": [
      "step              0\n",
      "amount            0\n",
      "oldbalanceOrg     0\n",
      "newbalanceOrig    0\n",
      "oldbalanceDest    0\n",
      "newbalanceDest    0\n",
      "isFraud           0\n",
      "isFlaggedFraud    0\n",
      "dtype: int64\n"
     ]
    },
    {
     "data": {
      "text/plain": [
       "<AxesSubplot:>"
      ]
     },
     "execution_count": 11,
     "metadata": {},
     "output_type": "execute_result"
    },
    {
     "data": {
      "image/png": "[encoded data removed]",
      "text/plain": [
       "<Figure size 432x288 with 2 Axes>"
      ]
     },
     "metadata": {
      "needs_background": "light"
     },
     "output_type": "display_data"
    }
   ],
   "source": [
    "print(df_num.isnull().sum())\n",
    "snb.heatmap(df_num.isnull())"
   ]
  },
  {
   "cell_type": "markdown",
   "id": "b43eca24",
   "metadata": {},
   "source": [
    "### Finding out the correlation in numerical dataset"
   ]
  },
  {
   "cell_type": "code",
   "execution_count": 12,
   "id": "3e3cbcd2",
   "metadata": {
    "ExecuteTime": {
     "end_time": "2022-07-21T06:40:58.273289Z",
     "start_time": "2022-07-21T06:40:56.577171Z"
    }
   },
   "outputs": [
    {
     "data": {
      "text/plain": [
       "<AxesSubplot:>"
      ]
     },
     "execution_count": 12,
     "metadata": {},
     "output_type": "execute_result"
    },
    {
     "data": {
      "image/png": "[encoded data removed]",
      "text/plain": [
       "<Figure size 432x288 with 2 Axes>"
      ]
     },
     "metadata": {
      "needs_background": "light"
     },
     "output_type": "display_data"
    }
   ],
   "source": [
    "cr = df_num.corr()\n",
    "snb.heatmap(cr,annot=True)"
   ]
  },
  {
   "cell_type": "markdown",
   "id": "57dae077",
   "metadata": {},
   "source": [
    "### Data Sepeartion"
   ]
  },
  {
   "cell_type": "code",
   "execution_count": 13,
   "id": "ec407aaa",
   "metadata": {
    "ExecuteTime": {
     "end_time": "2022-07-21T06:40:58.541310Z",
     "start_time": "2022-07-21T06:40:58.275293Z"
    }
   },
   "outputs": [
    {
     "data": {
      "text/html": [
       "<div>\n",
       "<style scoped>\n",
       "    .dataframe tbody tr th:only-of-type {\n",
       "        vertical-align: middle;\n",
       "    }\n",
       "\n",
       "    .dataframe tbody tr th {\n",
       "        vertical-align: top;\n",
       "    }\n",
       "\n",
       "    .dataframe thead th {\n",
       "        text-align: right;\n",
       "    }\n",
       "</style>\n",
       "<table border=\"1\" class=\"dataframe\">\n",
       "  <thead>\n",
       "    <tr style=\"text-align: right;\">\n",
       "      <th></th>\n",
       "      <th>step</th>\n",
       "      <th>amount</th>\n",
       "      <th>oldbalanceOrg</th>\n",
       "      <th>newbalanceOrig</th>\n",
       "      <th>oldbalanceDest</th>\n",
       "      <th>newbalanceDest</th>\n",
       "    </tr>\n",
       "  </thead>\n",
       "  <tbody>\n",
       "    <tr>\n",
       "      <th>0</th>\n",
       "      <td>1</td>\n",
       "      <td>9839.64</td>\n",
       "      <td>170136.0</td>\n",
       "      <td>160296.36</td>\n",
       "      <td>0.0</td>\n",
       "      <td>0.0</td>\n",
       "    </tr>\n",
       "    <tr>\n",
       "      <th>1</th>\n",
       "      <td>1</td>\n",
       "      <td>1864.28</td>\n",
       "      <td>21249.0</td>\n",
       "      <td>19384.72</td>\n",
       "      <td>0.0</td>\n",
       "      <td>0.0</td>\n",
       "    </tr>\n",
       "    <tr>\n",
       "      <th>2</th>\n",
       "      <td>1</td>\n",
       "      <td>181.00</td>\n",
       "      <td>181.0</td>\n",
       "      <td>0.00</td>\n",
       "      <td>0.0</td>\n",
       "      <td>0.0</td>\n",
       "    </tr>\n",
       "    <tr>\n",
       "      <th>3</th>\n",
       "      <td>1</td>\n",
       "      <td>181.00</td>\n",
       "      <td>181.0</td>\n",
       "      <td>0.00</td>\n",
       "      <td>21182.0</td>\n",
       "      <td>0.0</td>\n",
       "    </tr>\n",
       "    <tr>\n",
       "      <th>4</th>\n",
       "      <td>1</td>\n",
       "      <td>11668.14</td>\n",
       "      <td>41554.0</td>\n",
       "      <td>29885.86</td>\n",
       "      <td>0.0</td>\n",
       "      <td>0.0</td>\n",
       "    </tr>\n",
       "  </tbody>\n",
       "</table>\n",
       "</div>"
      ],
      "text/plain": [
       "   step    amount  oldbalanceOrg  newbalanceOrig  oldbalanceDest  \\\n",
       "0     1   9839.64       170136.0       160296.36             0.0   \n",
       "1     1   1864.28        21249.0        19384.72             0.0   \n",
       "2     1    181.00          181.0            0.00             0.0   \n",
       "3     1    181.00          181.0            0.00         21182.0   \n",
       "4     1  11668.14        41554.0        29885.86             0.0   \n",
       "\n",
       "   newbalanceDest  \n",
       "0             0.0  \n",
       "1             0.0  \n",
       "2             0.0  \n",
       "3             0.0  \n",
       "4             0.0  "
      ]
     },
     "execution_count": 13,
     "metadata": {},
     "output_type": "execute_result"
    }
   ],
   "source": [
    "inputs = df_num.drop(['isFlaggedFraud','isFraud'],axis='columns')\n",
    "inputs.head()"
   ]
  },
  {
   "cell_type": "code",
   "execution_count": 14,
   "id": "9bec4cc8",
   "metadata": {
    "ExecuteTime": {
     "end_time": "2022-07-21T06:40:58.556312Z",
     "start_time": "2022-07-21T06:40:58.543312Z"
    }
   },
   "outputs": [
    {
     "data": {
      "text/plain": [
       "0    0\n",
       "1    0\n",
       "2    1\n",
       "3    1\n",
       "4    0\n",
       "Name: isFraud, dtype: int64"
      ]
     },
     "execution_count": 14,
     "metadata": {},
     "output_type": "execute_result"
    }
   ],
   "source": [
    "target = df_num['isFraud']\n",
    "target.head()"
   ]
  },
  {
   "cell_type": "markdown",
   "id": "82da5ae0",
   "metadata": {
    "ExecuteTime": {
     "end_time": "2022-07-20T22:22:47.930032Z",
     "start_time": "2022-07-20T22:22:47.851454Z"
    }
   },
   "source": [
    "### Outlier detection and correction"
   ]
  },
  {
   "cell_type": "code",
   "execution_count": 15,
   "id": "f6a5292a",
   "metadata": {
    "ExecuteTime": {
     "end_time": "2022-07-21T06:40:58.572311Z",
     "start_time": "2022-07-21T06:40:58.558312Z"
    }
   },
   "outputs": [],
   "source": [
    "def outlier(df,ft):\n",
    "    q1 = df[ft].quantile(0.25)\n",
    "    q3 = df[ft].quantile(0.75)\n",
    "    iqr = q3 - q1\n",
    "    lower = q1 - 1.5*iqr\n",
    "    upper = q3 + 1.5*iqr\n",
    "    \n",
    "    lst = df.index[(df[ft]<lower)|df[ft]>upper]\n",
    "    \n",
    "    mean = df[ft].mean()\n",
    "    for i in lst:\n",
    "        df[ft].loc[i] = mean\n",
    "    return lst"
   ]
  },
  {
   "cell_type": "markdown",
   "id": "5308559f",
   "metadata": {},
   "source": [
    "### Outlier Index"
   ]
  },
  {
   "cell_type": "code",
   "execution_count": 16,
   "id": "bea190f2",
   "metadata": {
    "ExecuteTime": {
     "end_time": "2022-07-21T06:40:59.496929Z",
     "start_time": "2022-07-21T06:40:58.573314Z"
    },
    "scrolled": true
   },
   "outputs": [
    {
     "data": {
      "text/plain": [
       "[]"
      ]
     },
     "execution_count": 16,
     "metadata": {},
     "output_type": "execute_result"
    }
   ],
   "source": [
    "df_lst = []\n",
    "for i in inputs.columns:\n",
    "    df_lst.extend(outlier(inputs,i))\n",
    "df_lst"
   ]
  },
  {
   "cell_type": "code",
   "execution_count": 17,
   "id": "c81616d3",
   "metadata": {
    "ExecuteTime": {
     "end_time": "2022-07-21T06:40:59.512933Z",
     "start_time": "2022-07-21T06:40:59.498934Z"
    }
   },
   "outputs": [
    {
     "data": {
      "text/html": [
       "<div>\n",
       "<style scoped>\n",
       "    .dataframe tbody tr th:only-of-type {\n",
       "        vertical-align: middle;\n",
       "    }\n",
       "\n",
       "    .dataframe tbody tr th {\n",
       "        vertical-align: top;\n",
       "    }\n",
       "\n",
       "    .dataframe thead th {\n",
       "        text-align: right;\n",
       "    }\n",
       "</style>\n",
       "<table border=\"1\" class=\"dataframe\">\n",
       "  <thead>\n",
       "    <tr style=\"text-align: right;\">\n",
       "      <th></th>\n",
       "      <th>step</th>\n",
       "      <th>amount</th>\n",
       "      <th>oldbalanceOrg</th>\n",
       "      <th>newbalanceOrig</th>\n",
       "      <th>oldbalanceDest</th>\n",
       "      <th>newbalanceDest</th>\n",
       "    </tr>\n",
       "  </thead>\n",
       "  <tbody>\n",
       "    <tr>\n",
       "      <th>0</th>\n",
       "      <td>1</td>\n",
       "      <td>9839.64</td>\n",
       "      <td>170136.0</td>\n",
       "      <td>160296.36</td>\n",
       "      <td>0.0</td>\n",
       "      <td>0.0</td>\n",
       "    </tr>\n",
       "    <tr>\n",
       "      <th>1</th>\n",
       "      <td>1</td>\n",
       "      <td>1864.28</td>\n",
       "      <td>21249.0</td>\n",
       "      <td>19384.72</td>\n",
       "      <td>0.0</td>\n",
       "      <td>0.0</td>\n",
       "    </tr>\n",
       "    <tr>\n",
       "      <th>2</th>\n",
       "      <td>1</td>\n",
       "      <td>181.00</td>\n",
       "      <td>181.0</td>\n",
       "      <td>0.00</td>\n",
       "      <td>0.0</td>\n",
       "      <td>0.0</td>\n",
       "    </tr>\n",
       "    <tr>\n",
       "      <th>3</th>\n",
       "      <td>1</td>\n",
       "      <td>181.00</td>\n",
       "      <td>181.0</td>\n",
       "      <td>0.00</td>\n",
       "      <td>21182.0</td>\n",
       "      <td>0.0</td>\n",
       "    </tr>\n",
       "    <tr>\n",
       "      <th>4</th>\n",
       "      <td>1</td>\n",
       "      <td>11668.14</td>\n",
       "      <td>41554.0</td>\n",
       "      <td>29885.86</td>\n",
       "      <td>0.0</td>\n",
       "      <td>0.0</td>\n",
       "    </tr>\n",
       "  </tbody>\n",
       "</table>\n",
       "</div>"
      ],
      "text/plain": [
       "   step    amount  oldbalanceOrg  newbalanceOrig  oldbalanceDest  \\\n",
       "0     1   9839.64       170136.0       160296.36             0.0   \n",
       "1     1   1864.28        21249.0        19384.72             0.0   \n",
       "2     1    181.00          181.0            0.00             0.0   \n",
       "3     1    181.00          181.0            0.00         21182.0   \n",
       "4     1  11668.14        41554.0        29885.86             0.0   \n",
       "\n",
       "   newbalanceDest  \n",
       "0             0.0  \n",
       "1             0.0  \n",
       "2             0.0  \n",
       "3             0.0  \n",
       "4             0.0  "
      ]
     },
     "execution_count": 17,
     "metadata": {},
     "output_type": "execute_result"
    }
   ],
   "source": [
    "inputs.head()"
   ]
  },
  {
   "cell_type": "markdown",
   "id": "83d58d58",
   "metadata": {},
   "source": [
    "### Standard Scaling"
   ]
  },
  {
   "cell_type": "code",
   "execution_count": 18,
   "id": "2e6e74f3",
   "metadata": {
    "ExecuteTime": {
     "end_time": "2022-07-21T06:40:59.623940Z",
     "start_time": "2022-07-21T06:40:59.514933Z"
    }
   },
   "outputs": [],
   "source": [
    "from sklearn.preprocessing import StandardScaler\n",
    "scale = StandardScaler()"
   ]
  },
  {
   "cell_type": "code",
   "execution_count": 19,
   "id": "af481daf",
   "metadata": {
    "ExecuteTime": {
     "end_time": "2022-07-21T06:41:00.360079Z",
     "start_time": "2022-07-21T06:40:59.624940Z"
    }
   },
   "outputs": [
    {
     "data": {
      "text/plain": [
       "array([[-1.70304158e+00, -2.81559923e-01, -2.29810037e-01,\n",
       "        -2.37621696e-01, -3.23813895e-01, -3.33411405e-01],\n",
       "       [-1.70304158e+00, -2.94767262e-01, -2.81359380e-01,\n",
       "        -2.85812295e-01, -3.23813895e-01, -3.33411405e-01],\n",
       "       [-1.70304158e+00, -2.97554804e-01, -2.88653782e-01,\n",
       "        -2.92441707e-01, -3.23813895e-01, -3.33411405e-01],\n",
       "       ...,\n",
       "       [ 3.51012348e+00,  1.01539526e+01,  1.89649113e+00,\n",
       "        -2.92441707e-01, -3.03665258e-01,  1.40302700e+00],\n",
       "       [ 3.51012348e+00,  1.10976490e+00,  5.58104668e-03,\n",
       "        -2.92441707e-01, -3.23813895e-01, -3.33411405e-01],\n",
       "       [ 3.51012348e+00,  1.10976490e+00,  5.58104668e-03,\n",
       "        -2.92441707e-01,  1.59138312e+00,  1.66981230e+00]])"
      ]
     },
     "execution_count": 19,
     "metadata": {},
     "output_type": "execute_result"
    }
   ],
   "source": [
    "df_tf = pd.DataFrame()\n",
    "df_tf = scale.fit_transform(inputs)\n",
    "df_tf"
   ]
  },
  {
   "cell_type": "markdown",
   "id": "2cb2446b",
   "metadata": {},
   "source": [
    "## Analyzing Catagorical Value"
   ]
  },
  {
   "cell_type": "code",
   "execution_count": 27,
   "id": "d857a5a2",
   "metadata": {
    "ExecuteTime": {
     "end_time": "2022-07-21T06:49:03.864088Z",
     "start_time": "2022-07-21T06:49:03.845101Z"
    }
   },
   "outputs": [
    {
     "data": {
      "text/html": [
       "<div>\n",
       "<style scoped>\n",
       "    .dataframe tbody tr th:only-of-type {\n",
       "        vertical-align: middle;\n",
       "    }\n",
       "\n",
       "    .dataframe tbody tr th {\n",
       "        vertical-align: top;\n",
       "    }\n",
       "\n",
       "    .dataframe thead th {\n",
       "        text-align: right;\n",
       "    }\n",
       "</style>\n",
       "<table border=\"1\" class=\"dataframe\">\n",
       "  <thead>\n",
       "    <tr style=\"text-align: right;\">\n",
       "      <th></th>\n",
       "      <th>type</th>\n",
       "      <th>nameOrig</th>\n",
       "      <th>nameDest</th>\n",
       "    </tr>\n",
       "  </thead>\n",
       "  <tbody>\n",
       "    <tr>\n",
       "      <th>0</th>\n",
       "      <td>PAYMENT</td>\n",
       "      <td>C1231006815</td>\n",
       "      <td>M1979787155</td>\n",
       "    </tr>\n",
       "    <tr>\n",
       "      <th>1</th>\n",
       "      <td>PAYMENT</td>\n",
       "      <td>C1666544295</td>\n",
       "      <td>M2044282225</td>\n",
       "    </tr>\n",
       "    <tr>\n",
       "      <th>2</th>\n",
       "      <td>TRANSFER</td>\n",
       "      <td>C1305486145</td>\n",
       "      <td>C553264065</td>\n",
       "    </tr>\n",
       "    <tr>\n",
       "      <th>3</th>\n",
       "      <td>CASH_OUT</td>\n",
       "      <td>C840083671</td>\n",
       "      <td>C38997010</td>\n",
       "    </tr>\n",
       "    <tr>\n",
       "      <th>4</th>\n",
       "      <td>PAYMENT</td>\n",
       "      <td>C2048537720</td>\n",
       "      <td>M1230701703</td>\n",
       "    </tr>\n",
       "  </tbody>\n",
       "</table>\n",
       "</div>"
      ],
      "text/plain": [
       "       type     nameOrig     nameDest\n",
       "0   PAYMENT  C1231006815  M1979787155\n",
       "1   PAYMENT  C1666544295  M2044282225\n",
       "2  TRANSFER  C1305486145   C553264065\n",
       "3  CASH_OUT   C840083671    C38997010\n",
       "4   PAYMENT  C2048537720  M1230701703"
      ]
     },
     "execution_count": 27,
     "metadata": {},
     "output_type": "execute_result"
    }
   ],
   "source": [
    "df_cat.head()"
   ]
  },
  {
   "cell_type": "markdown",
   "id": "7b36dc6d",
   "metadata": {},
   "source": [
    "### Data Filtering"
   ]
  },
  {
   "cell_type": "code",
   "execution_count": 29,
   "id": "28dcf2e1",
   "metadata": {
    "ExecuteTime": {
     "end_time": "2022-07-21T06:52:43.132947Z",
     "start_time": "2022-07-21T06:52:42.678366Z"
    }
   },
   "outputs": [
    {
     "data": {
      "text/html": [
       "<div>\n",
       "<style scoped>\n",
       "    .dataframe tbody tr th:only-of-type {\n",
       "        vertical-align: middle;\n",
       "    }\n",
       "\n",
       "    .dataframe tbody tr th {\n",
       "        vertical-align: top;\n",
       "    }\n",
       "\n",
       "    .dataframe thead th {\n",
       "        text-align: right;\n",
       "    }\n",
       "</style>\n",
       "<table border=\"1\" class=\"dataframe\">\n",
       "  <thead>\n",
       "    <tr style=\"text-align: right;\">\n",
       "      <th></th>\n",
       "      <th>type</th>\n",
       "    </tr>\n",
       "  </thead>\n",
       "  <tbody>\n",
       "    <tr>\n",
       "      <th>0</th>\n",
       "      <td>PAYMENT</td>\n",
       "    </tr>\n",
       "    <tr>\n",
       "      <th>1</th>\n",
       "      <td>PAYMENT</td>\n",
       "    </tr>\n",
       "    <tr>\n",
       "      <th>2</th>\n",
       "      <td>TRANSFER</td>\n",
       "    </tr>\n",
       "    <tr>\n",
       "      <th>3</th>\n",
       "      <td>CASH_OUT</td>\n",
       "    </tr>\n",
       "    <tr>\n",
       "      <th>4</th>\n",
       "      <td>PAYMENT</td>\n",
       "    </tr>\n",
       "  </tbody>\n",
       "</table>\n",
       "</div>"
      ],
      "text/plain": [
       "       type\n",
       "0   PAYMENT\n",
       "1   PAYMENT\n",
       "2  TRANSFER\n",
       "3  CASH_OUT\n",
       "4   PAYMENT"
      ]
     },
     "execution_count": 29,
     "metadata": {},
     "output_type": "execute_result"
    }
   ],
   "source": [
    "cat_input = df_cat.drop(['nameOrig','nameDest'],axis='columns')\n",
    "cat_input.head()"
   ]
  },
  {
   "cell_type": "markdown",
   "id": "59f53e32",
   "metadata": {},
   "source": [
    "### Label Encoding"
   ]
  },
  {
   "cell_type": "code",
   "execution_count": 30,
   "id": "04e21352",
   "metadata": {
    "ExecuteTime": {
     "end_time": "2022-07-21T06:55:21.289370Z",
     "start_time": "2022-07-21T06:55:21.277369Z"
    }
   },
   "outputs": [],
   "source": [
    "from sklearn.preprocessing import LabelEncoder"
   ]
  },
  {
   "cell_type": "code",
   "execution_count": 32,
   "id": "bf9cfc19",
   "metadata": {
    "ExecuteTime": {
     "end_time": "2022-07-21T06:57:52.295653Z",
     "start_time": "2022-07-21T06:57:51.011293Z"
    }
   },
   "outputs": [
    {
     "data": {
      "text/html": [
       "<div>\n",
       "<style scoped>\n",
       "    .dataframe tbody tr th:only-of-type {\n",
       "        vertical-align: middle;\n",
       "    }\n",
       "\n",
       "    .dataframe tbody tr th {\n",
       "        vertical-align: top;\n",
       "    }\n",
       "\n",
       "    .dataframe thead th {\n",
       "        text-align: right;\n",
       "    }\n",
       "</style>\n",
       "<table border=\"1\" class=\"dataframe\">\n",
       "  <thead>\n",
       "    <tr style=\"text-align: right;\">\n",
       "      <th></th>\n",
       "      <th>type</th>\n",
       "    </tr>\n",
       "  </thead>\n",
       "  <tbody>\n",
       "    <tr>\n",
       "      <th>0</th>\n",
       "      <td>3</td>\n",
       "    </tr>\n",
       "    <tr>\n",
       "      <th>1</th>\n",
       "      <td>3</td>\n",
       "    </tr>\n",
       "    <tr>\n",
       "      <th>2</th>\n",
       "      <td>4</td>\n",
       "    </tr>\n",
       "    <tr>\n",
       "      <th>3</th>\n",
       "      <td>1</td>\n",
       "    </tr>\n",
       "    <tr>\n",
       "      <th>4</th>\n",
       "      <td>3</td>\n",
       "    </tr>\n",
       "  </tbody>\n",
       "</table>\n",
       "</div>"
      ],
      "text/plain": [
       "   type\n",
       "0     3\n",
       "1     3\n",
       "2     4\n",
       "3     1\n",
       "4     3"
      ]
     },
     "execution_count": 32,
     "metadata": {},
     "output_type": "execute_result"
    }
   ],
   "source": [
    "le = LabelEncoder()\n",
    "cat_input['type'] = le.fit_transform(cat_input['type'])\n",
    "cat_input.head()"
   ]
  },
  {
   "cell_type": "markdown",
   "id": "5453c6dd",
   "metadata": {},
   "source": [
    "### Concatinating Numerical and Catagorical Value"
   ]
  },
  {
   "cell_type": "code",
   "execution_count": 33,
   "id": "0b2a2645",
   "metadata": {
    "ExecuteTime": {
     "end_time": "2022-07-21T06:59:41.691938Z",
     "start_time": "2022-07-21T06:59:41.601928Z"
    }
   },
   "outputs": [
    {
     "data": {
      "text/html": [
       "<div>\n",
       "<style scoped>\n",
       "    .dataframe tbody tr th:only-of-type {\n",
       "        vertical-align: middle;\n",
       "    }\n",
       "\n",
       "    .dataframe tbody tr th {\n",
       "        vertical-align: top;\n",
       "    }\n",
       "\n",
       "    .dataframe thead th {\n",
       "        text-align: right;\n",
       "    }\n",
       "</style>\n",
       "<table border=\"1\" class=\"dataframe\">\n",
       "  <thead>\n",
       "    <tr style=\"text-align: right;\">\n",
       "      <th></th>\n",
       "      <th>step</th>\n",
       "      <th>amount</th>\n",
       "      <th>oldbalanceOrg</th>\n",
       "      <th>newbalanceOrig</th>\n",
       "      <th>oldbalanceDest</th>\n",
       "      <th>newbalanceDest</th>\n",
       "      <th>type</th>\n",
       "    </tr>\n",
       "  </thead>\n",
       "  <tbody>\n",
       "    <tr>\n",
       "      <th>0</th>\n",
       "      <td>1</td>\n",
       "      <td>9839.64</td>\n",
       "      <td>170136.0</td>\n",
       "      <td>160296.36</td>\n",
       "      <td>0.0</td>\n",
       "      <td>0.0</td>\n",
       "      <td>3</td>\n",
       "    </tr>\n",
       "    <tr>\n",
       "      <th>1</th>\n",
       "      <td>1</td>\n",
       "      <td>1864.28</td>\n",
       "      <td>21249.0</td>\n",
       "      <td>19384.72</td>\n",
       "      <td>0.0</td>\n",
       "      <td>0.0</td>\n",
       "      <td>3</td>\n",
       "    </tr>\n",
       "    <tr>\n",
       "      <th>2</th>\n",
       "      <td>1</td>\n",
       "      <td>181.00</td>\n",
       "      <td>181.0</td>\n",
       "      <td>0.00</td>\n",
       "      <td>0.0</td>\n",
       "      <td>0.0</td>\n",
       "      <td>4</td>\n",
       "    </tr>\n",
       "    <tr>\n",
       "      <th>3</th>\n",
       "      <td>1</td>\n",
       "      <td>181.00</td>\n",
       "      <td>181.0</td>\n",
       "      <td>0.00</td>\n",
       "      <td>21182.0</td>\n",
       "      <td>0.0</td>\n",
       "      <td>1</td>\n",
       "    </tr>\n",
       "    <tr>\n",
       "      <th>4</th>\n",
       "      <td>1</td>\n",
       "      <td>11668.14</td>\n",
       "      <td>41554.0</td>\n",
       "      <td>29885.86</td>\n",
       "      <td>0.0</td>\n",
       "      <td>0.0</td>\n",
       "      <td>3</td>\n",
       "    </tr>\n",
       "  </tbody>\n",
       "</table>\n",
       "</div>"
      ],
      "text/plain": [
       "   step    amount  oldbalanceOrg  newbalanceOrig  oldbalanceDest  \\\n",
       "0     1   9839.64       170136.0       160296.36             0.0   \n",
       "1     1   1864.28        21249.0        19384.72             0.0   \n",
       "2     1    181.00          181.0            0.00             0.0   \n",
       "3     1    181.00          181.0            0.00         21182.0   \n",
       "4     1  11668.14        41554.0        29885.86             0.0   \n",
       "\n",
       "   newbalanceDest  type  \n",
       "0             0.0     3  \n",
       "1             0.0     3  \n",
       "2             0.0     4  \n",
       "3             0.0     1  \n",
       "4             0.0     3  "
      ]
     },
     "execution_count": 33,
     "metadata": {},
     "output_type": "execute_result"
    }
   ],
   "source": [
    "inputs = pd.concat([inputs,cat_input],axis='columns')\n",
    "inputs.head()"
   ]
  },
  {
   "cell_type": "markdown",
   "id": "942e2737",
   "metadata": {},
   "source": [
    "# Selcting K Best value"
   ]
  },
  {
   "cell_type": "code",
   "execution_count": 20,
   "id": "10bf646e",
   "metadata": {
    "ExecuteTime": {
     "end_time": "2022-07-21T06:41:00.375306Z",
     "start_time": "2022-07-21T06:41:00.362080Z"
    }
   },
   "outputs": [],
   "source": [
    "# from sklearn.feature_selection import SelectKBest\n",
    "# from sklearn.feature_selection import chi2"
   ]
  },
  {
   "cell_type": "code",
   "execution_count": 21,
   "id": "8e8dd3ce",
   "metadata": {
    "ExecuteTime": {
     "end_time": "2022-07-21T06:41:00.391128Z",
     "start_time": "2022-07-21T06:41:00.377313Z"
    }
   },
   "outputs": [],
   "source": [
    "# df_x = SelectKBest(chi2,10).fit_transform(inputs,target)"
   ]
  },
  {
   "cell_type": "markdown",
   "id": "19754b68",
   "metadata": {},
   "source": [
    "# Training And Testing"
   ]
  },
  {
   "cell_type": "code",
   "execution_count": 34,
   "id": "7f7bc96f",
   "metadata": {
    "ExecuteTime": {
     "end_time": "2022-07-21T07:00:01.519642Z",
     "start_time": "2022-07-21T07:00:01.502642Z"
    }
   },
   "outputs": [],
   "source": [
    "from sklearn.model_selection import train_test_split"
   ]
  },
  {
   "cell_type": "code",
   "execution_count": 35,
   "id": "f736672a",
   "metadata": {
    "ExecuteTime": {
     "end_time": "2022-07-21T07:00:03.788439Z",
     "start_time": "2022-07-21T07:00:01.933755Z"
    }
   },
   "outputs": [],
   "source": [
    "xtrain,xtest,ytrain,ytest = train_test_split(inputs,target,test_size=0.3,random_state=10)"
   ]
  },
  {
   "cell_type": "code",
   "execution_count": 36,
   "id": "fa004741",
   "metadata": {
    "ExecuteTime": {
     "end_time": "2022-07-21T07:00:03.804171Z",
     "start_time": "2022-07-21T07:00:03.791174Z"
    }
   },
   "outputs": [],
   "source": [
    "from sklearn.linear_model import LogisticRegression\n",
    "model = LogisticRegression()"
   ]
  },
  {
   "cell_type": "code",
   "execution_count": 37,
   "id": "c70ad83d",
   "metadata": {
    "ExecuteTime": {
     "end_time": "2022-07-21T07:00:39.032108Z",
     "start_time": "2022-07-21T07:00:03.805168Z"
    }
   },
   "outputs": [
    {
     "data": {
      "text/plain": [
       "LogisticRegression()"
      ]
     },
     "execution_count": 37,
     "metadata": {},
     "output_type": "execute_result"
    }
   ],
   "source": [
    "model.fit(xtrain,ytrain)"
   ]
  },
  {
   "cell_type": "code",
   "execution_count": 38,
   "id": "1a572bb2",
   "metadata": {
    "ExecuteTime": {
     "end_time": "2022-07-21T07:00:39.239834Z",
     "start_time": "2022-07-21T07:00:39.034818Z"
    }
   },
   "outputs": [
    {
     "data": {
      "text/plain": [
       "0.9982449577899252"
      ]
     },
     "execution_count": 38,
     "metadata": {},
     "output_type": "execute_result"
    }
   ],
   "source": [
    "model.score(xtest,ytest)"
   ]
  },
  {
   "cell_type": "code",
   "execution_count": null,
   "id": "f35e2ee4",
   "metadata": {},
   "outputs": [],
   "source": []
  }
 ],
 "metadata": {
  "kernelspec": {
   "display_name": "Python 3 (ipykernel)",
   "language": "python",
   "name": "python3"
  },
  "language_info": {
   "codemirror_mode": {
    "name": "ipython",
    "version": 3
   },
   "file_extension": ".py",
   "mimetype": "text/x-python",
   "name": "python",
   "nbconvert_exporter": "python",
   "pygments_lexer": "ipython3",
   "version": "3.9.7"
  },
  "toc": {
   "base_numbering": 1,
   "nav_menu": {},
   "number_sections": true,
   "sideBar": true,
   "skip_h1_title": false,
   "title_cell": "Table of Contents",
   "title_sidebar": "Contents",
   "toc_cell": true,
   "toc_position": {
    "height": "calc(100% - 180px)",
    "left": "10px",
    "top": "150px",
    "width": "304.475px"
   },
   "toc_section_display": true,
   "toc_window_display": false
  }
 },
 "nbformat": 4,
 "nbformat_minor": 5
}
